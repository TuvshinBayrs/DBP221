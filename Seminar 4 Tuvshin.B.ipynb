{
 "cells": [
  {
   "cell_type": "code",
   "execution_count": 1,
   "metadata": {},
   "outputs": [
    {
     "name": "stdout",
     "output_type": "stream",
     "text": [
      "[ 50  51  52  53  54  55  56  57  58  59  60  61  62  63  64  65  66  67\n",
      "  68  69  70  71  72  73  74  75  76  77  78  79  80  81  82  83  84  85\n",
      "  86  87  88  89  90  91  92  93  94  95  96  97  98  99 100]\n"
     ]
    }
   ],
   "source": [
    "import numpy as np\n",
    "x = np.arange(50, 101)\n",
    "print(x)\n"
   ]
  },
  {
   "cell_type": "code",
   "execution_count": 2,
   "metadata": {},
   "outputs": [
    {
     "data": {
      "text/plain": [
       "array([6, 6, 6, 6, 6, 6, 6, 6, 6, 6])"
      ]
     },
     "execution_count": 2,
     "metadata": {},
     "output_type": "execute_result"
    }
   ],
   "source": [
    "np.ones(10)\n",
    "np.zeros(10)\n",
    "np.repeat(6 , 10)"
   ]
  },
  {
   "cell_type": "code",
   "execution_count": 3,
   "metadata": {},
   "outputs": [
    {
     "data": {
      "text/plain": [
       "array([[20, 21, 22, 23],\n",
       "       [24, 25, 26, 27],\n",
       "       [28, 29, 30, 31]])"
      ]
     },
     "execution_count": 3,
     "metadata": {},
     "output_type": "execute_result"
    }
   ],
   "source": [
    "data = np.arange(20,32)\n",
    "np.reshape(data, (3, 4), \"C\")"
   ]
  },
  {
   "cell_type": "code",
   "execution_count": 4,
   "metadata": {},
   "outputs": [
    {
     "data": {
      "text/plain": [
       "array([[1, 0, 0],\n",
       "       [0, 1, 0],\n",
       "       [0, 0, 1]])"
      ]
     },
     "execution_count": 4,
     "metadata": {},
     "output_type": "execute_result"
    }
   ],
   "source": [
    "np.diag([1,1,1]) "
   ]
  },
  {
   "cell_type": "code",
   "execution_count": 5,
   "metadata": {},
   "outputs": [
    {
     "data": {
      "text/plain": [
       "array([[1, 0, 0, 0, 0],\n",
       "       [0, 2, 0, 0, 0],\n",
       "       [0, 0, 3, 0, 0],\n",
       "       [0, 0, 0, 4, 0],\n",
       "       [0, 0, 0, 0, 5]])"
      ]
     },
     "execution_count": 5,
     "metadata": {},
     "output_type": "execute_result"
    }
   ],
   "source": [
    "np.diag([1,2,3,4,5])"
   ]
  },
  {
   "cell_type": "code",
   "execution_count": 6,
   "metadata": {},
   "outputs": [
    {
     "data": {
      "text/plain": [
       "array([15, 65])"
      ]
     },
     "execution_count": 6,
     "metadata": {},
     "output_type": "execute_result"
    }
   ],
   "source": [
    "data = [[1,2,3,4,5],[11,12,13,14,15]]\n",
    "\n",
    "data2 = np.array(data)\n",
    "np.sum(data2)\n",
    "np.sum(data2, axis = 0)\n",
    "np.sum(data2, axis = 1)"
   ]
  },
  {
   "cell_type": "code",
   "execution_count": 8,
   "metadata": {},
   "outputs": [
    {
     "name": "stdout",
     "output_type": "stream",
     "text": [
      "Salaries [ 25000000  43564248 240710233  83437500 101387286  98060900 214925927\n",
      " 222838800  54478120  68258312]\n",
      "Salaries [222470735 188489772 183809255 159301544 127577083 135891648 135121289]\n",
      "Games [ 25000000  43564248 240710233  83437500 101387286  98060900 214925927\n",
      " 222838800  54478120  68258312]\n",
      "Games [222470735 188489772 183809255 159301544 127577083 135891648 135121289]\n",
      "Points [ 1161  2081 11807  7213  4688  1010  7004  8346  5309  3271]\n",
      "Points [13596 10239  9078  5605  5246  5358  2768]\n"
     ]
    }
   ],
   "source": [
    "#7\n",
    "\n",
    "Seasons = [\"2015\",\"2016\",\"2017\",\"2018\",\"2019\",\"2020\",\"2021\"]\n",
    "\n",
    "Sdict = {\"2015\":0,\"2016\":1,\"2017\":2,\"2018\":3,\"2019\":4,\"2020\":5,\"2021\":6}\n",
    "\n",
    "#Salary\n",
    "\n",
    "KobeBryant_Salary = [25000000,0,0,0,0,0,0]\n",
    "\n",
    "JoeJohnson_Salary = [22309344,11000000,10254904,0,0,0,0]\n",
    "\n",
    "LeBronJames_Salary = [22970500,30963450,33285709,35654150,37436858,39219566,41180000]\n",
    "\n",
    "CarmeloAnthony_Salary = [22875000,24559380,26243760,2393887,2159029,2564753,2641691]\n",
    "\n",
    "DwightHoward_Salary = [22359364,23500000,23500000,24256725,2564753,2564753,2641691]\n",
    "\n",
    "ChrisBosh_Salary = [22192730, 23741060, 25289390, 26837720, 0,0,0]\n",
    "\n",
    "ChrisPaul_Salary = [21468695, 22868827,24268959, 35654150, 38506482, 41358814, 30800000]\n",
    "\n",
    "KevinDurant_Salary = [21971850,26540100,25000000,30000000,37199000,40108950,42018900]\n",
    "\n",
    "DerrickRose_Salary = [21323252,2116955,416533,2176260,7317074,7682926,13445120]\n",
    "\n",
    "DwayneWade_Salary = [20000000,23200000,15550000,2328652,2393887,2391886,2393887]\n",
    "\n",
    "Salary = np.array([KobeBryant_Salary, JoeJohnson_Salary, LeBronJames_Salary, CarmeloAnthony_Salary, DwightHoward_Salary, ChrisBosh_Salary, ChrisPaul_Salary, KevinDurant_Salary, DerrickRose_Salary, DwayneWade_Salary])\n",
    "\n",
    "#Games\n",
    "\n",
    "KobeBryant_G = [66,0,0,0,0,0,0]\n",
    "\n",
    "JoeJohnson_G = [81,78,55,0,0,0,1]\n",
    "\n",
    "LeBronJames_G = [76,74,82,55,67,45,46]\n",
    "\n",
    "CarmeloAnthony_G = [72,74,78,10,58,69,56]\n",
    "\n",
    "DwightHoward_G = [71,74,81,9,69,69,47]\n",
    "\n",
    "ChrisBosh_G = [31,32,0,0,0,0,0]\n",
    "\n",
    "ChrisPaul_G = [74,61,58,58,70,70,58]\n",
    "\n",
    "KevinDurant_G = [72,62,68,78,0,35,38]\n",
    "\n",
    "DerrickRose_G = [66,64,25,51,50,50,26]\n",
    "\n",
    "DwayneWade_G = [74,60,67,46,21,72,0]\n",
    "\n",
    "Games = np.array([KobeBryant_Salary, JoeJohnson_Salary, LeBronJames_Salary, CarmeloAnthony_Salary, DwightHoward_Salary, ChrisBosh_Salary, ChrisPaul_Salary, KevinDurant_Salary, DerrickRose_Salary, DwayneWade_Salary])\n",
    "\n",
    "#Points\n",
    "\n",
    "KobeBryant_PTS = [1161,0,0,0,0,0,0]\n",
    "\n",
    "JoeJohnson_PTS = [992,715,372,0,0,0,2]\n",
    "\n",
    "LeBronJames_PTS = [1920,1954,2251,1505,1698,1126,1353]\n",
    "\n",
    "CarmeloAnthony_PTS = [1573,1659,1261,134,895,924,767]\n",
    "\n",
    "DwightHoward_PTS = [976,1002,1347,115,517,482,249]\n",
    "\n",
    "ChrisBosh_PTS = [1010,0,0,0,0,0,0]\n",
    "\n",
    "ChrisPaul_PTS = [1446,1104,1081,906,1232,1149,86]\n",
    "\n",
    "KevinDurant_PTS = [2029,1555,1792,2027,0,943,0]\n",
    "\n",
    "DerrickRose_PTS = [1080,1154,209,917,904,734,311]\n",
    "\n",
    "DwayneWade_PTS = [1409,1096,765,1,0,0,0]\n",
    "\n",
    "Points = np.array([KobeBryant_PTS, JoeJohnson_PTS, LeBronJames_PTS, CarmeloAnthony_PTS, DwightHoward_PTS, ChrisBosh_PTS, ChrisPaul_PTS, KevinDurant_PTS, DerrickRose_PTS, DwayneWade_PTS])             \n",
    "\n",
    "\n",
    "\n",
    "print(\"Salaries\",np.sum(Salary, axis = 1))\n",
    "\n",
    "print(\"Salaries\",np.sum(Salary, axis = 0))\n",
    "\n",
    "print(\"Games\",np.sum(Games, axis = 1))\n",
    "\n",
    "print(\"Games\",np.sum(Games, axis = 0))\n",
    "\n",
    "print(\"Points\", np.sum(Points, axis = 1))\n",
    "\n",
    "print(\"Points\",np.sum(Points, axis = 0))\n",
    "\n"
   ]
  }
 ],
 "metadata": {
  "interpreter": {
   "hash": "aee8b7b246df8f9039afb4144a1f6fd8d2ca17a180786b69acc140d282b71a49"
  },
  "kernelspec": {
   "display_name": "Python 3.10.2 64-bit",
   "language": "python",
   "name": "python3"
  },
  "language_info": {
   "codemirror_mode": {
    "name": "ipython",
    "version": 3
   },
   "file_extension": ".py",
   "mimetype": "text/x-python",
   "name": "python",
   "nbconvert_exporter": "python",
   "pygments_lexer": "ipython3",
   "version": "3.10.2"
  },
  "orig_nbformat": 4
 },
 "nbformat": 4,
 "nbformat_minor": 2
}
